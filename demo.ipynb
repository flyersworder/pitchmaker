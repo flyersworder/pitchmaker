{
 "cells": [
  {
   "cell_type": "code",
   "execution_count": 1,
   "id": "2abe64ad",
   "metadata": {},
   "outputs": [],
   "source": [
    "from dotenv import load_dotenv"
   ]
  },
  {
   "cell_type": "code",
   "execution_count": 3,
   "id": "34c6cc00",
   "metadata": {},
   "outputs": [
    {
     "data": {
      "text/plain": [
       "True"
      ]
     },
     "execution_count": 3,
     "metadata": {},
     "output_type": "execute_result"
    }
   ],
   "source": [
    "load_dotenv()"
   ]
  },
  {
   "cell_type": "code",
   "execution_count": 7,
   "id": "36cbc7ae",
   "metadata": {},
   "outputs": [],
   "source": [
    "from google import genai\n",
    "from google.genai import types"
   ]
  },
  {
   "cell_type": "code",
   "execution_count": 5,
   "id": "748c4fce",
   "metadata": {},
   "outputs": [],
   "source": [
    "# The client gets the API key from the environment variable `GEMINI_API_KEY`.\n",
    "client = genai.Client()"
   ]
  },
  {
   "cell_type": "code",
   "execution_count": 6,
   "id": "bc8ad025",
   "metadata": {},
   "outputs": [
    {
     "name": "stdout",
     "output_type": "stream",
     "text": [
      "AI learns patterns from data to make decisions and predictions.\n"
     ]
    }
   ],
   "source": [
    "response = client.models.generate_content(\n",
    "    model=\"gemini-2.5-flash\", contents=\"Explain how AI works in a few words\"\n",
    ")\n",
    "print(response.text)"
   ]
  },
  {
   "cell_type": "code",
   "execution_count": 8,
   "id": "36c6b12a",
   "metadata": {},
   "outputs": [],
   "source": [
    "# Define the grounding tool\n",
    "grounding_tool = types.Tool(\n",
    "    google_search=types.GoogleSearch()\n",
    ")\n",
    "\n",
    "# Configure generation settings\n",
    "config = types.GenerateContentConfig(\n",
    "    tools=[grounding_tool]\n",
    ")"
   ]
  },
  {
   "cell_type": "code",
   "execution_count": 10,
   "id": "5b738fda",
   "metadata": {},
   "outputs": [
    {
     "name": "stdout",
     "output_type": "stream",
     "text": [
      "Pak Choi is an Asian restaurant located in Taufkirchen, Bavaria, Germany. It offers a diverse menu with a focus on Vietnamese cuisine, including a selection of vegetarian, vegan, and healthy dishes. The restaurant is situated at Eschenstraße 42, 82024 Taufkirchen.\n",
      "\n",
      "Key information about Pak Choi:\n",
      "*   **Cuisine:** Primarily Vietnamese and other Asian dishes, with options for vegetarian, vegan, and healthy meals, including sushi, noodle dishes, and various main courses with chicken, duck, beef, fish, shrimp, squid, or tofu. Popular items include dumpling soup, chicken noodles, and sushi.\n",
      "*   **Address:** Eschenstraße 42, 82024 Taufkirchen, Germany.\n",
      "*   **Contact:** The phone number is +49 89 44478639 and their website is pakchoi-taufkirchen.com.\n",
      "*   **Ordering:** You can order online through Lieferando.de and Uber Eats.\n",
      "*   **Ambiance and Service:** The restaurant is described as nicely designed and cozy, with a welcoming ambiance. Customer reviews generally praise the pleasant service and delicious food. Some reviews mention that the food is served at the right temperature and is well-presented.\n",
      "*   **Reviews:** Pak Choi has an average Google rating of 4.1 out of 5 stars based on 152 reviews. Recent reviews highlight the very good food at reasonable prices and friendly staff. Some older reviews, however, mention issues with order accuracy, incorrect pricing, and wait times, particularly after the restaurant's expansion.\n"
     ]
    }
   ],
   "source": [
    "# Make the request\n",
    "response = client.models.generate_content(\n",
    "    model=\"gemini-2.5-flash\",\n",
    "    contents=\"Can you give me some info about a restaurant called Pak Choi in Taufkirchen, Bavaria, Germany?\",\n",
    "    config=config,\n",
    ")\n",
    "\n",
    "# Print the grounded response\n",
    "print(response.text)"
   ]
  },
  {
   "cell_type": "code",
   "execution_count": null,
   "id": "9491ccd1",
   "metadata": {},
   "outputs": [],
   "source": []
  }
 ],
 "metadata": {
  "kernelspec": {
   "display_name": ".venv",
   "language": "python",
   "name": "python3"
  },
  "language_info": {
   "codemirror_mode": {
    "name": "ipython",
    "version": 3
   },
   "file_extension": ".py",
   "mimetype": "text/x-python",
   "name": "python",
   "nbconvert_exporter": "python",
   "pygments_lexer": "ipython3",
   "version": "3.12.8"
  }
 },
 "nbformat": 4,
 "nbformat_minor": 5
}
